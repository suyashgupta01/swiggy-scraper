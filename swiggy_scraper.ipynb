{
 "cells": [
  {
   "cell_type": "code",
   "execution_count": null,
   "metadata": {},
   "outputs": [],
   "source": [
    "# if you don't have selenium installed, only then run this block:\n",
    "! pip install selenium"
   ]
  },
  {
   "cell_type": "code",
   "execution_count": null,
   "metadata": {},
   "outputs": [],
   "source": [
    "# import dependencies\n",
    "import time\n",
    "from selenium import webdriver"
   ]
  },
  {
   "cell_type": "code",
   "execution_count": null,
   "metadata": {},
   "outputs": [],
   "source": [
    "# enter location for chromedriver.exe\n",
    "chromedriver_path = \"\" "
   ]
  },
  {
   "cell_type": "code",
   "execution_count": null,
   "metadata": {},
   "outputs": [],
   "source": [
    "driver = webdriver.Chrome(executable_path = chromedriver_path)\n",
    "driver.get(\"https://www.swiggy.com/restaurants\")\n",
    "\n",
    "locme = driver.find_element_by_class_name(\"LukWG\")\n",
    "locme.click()\n",
    "time.sleep(2)\n",
    "button = driver.find_element_by_class_name(\"_3iFC5\")\n",
    "button.click()\n",
    "\n",
    "time.sleep(5)"
   ]
  },
  {
   "cell_type": "code",
   "execution_count": null,
   "metadata": {},
   "outputs": [],
   "source": [
    "# enter the promocode:\n",
    "promocode = 'SWIGGYIT'"
   ]
  },
  {
   "cell_type": "code",
   "execution_count": null,
   "metadata": {},
   "outputs": [],
   "source": [
    "maal = []\n",
    "for item in rest_element:\n",
    "    if promocode in item.text:\n",
    "        maal.append(item)\n",
    "req_list = []"
   ]
  },
  {
   "cell_type": "code",
   "execution_count": null,
   "metadata": {},
   "outputs": [],
   "source": [
    "for maal_item in maal:\n",
    "    rest_data = maal_item.text.split('\\n')\n",
    "    rating = ''\n",
    "    discount = ''\n",
    "    for item in rest_data:\n",
    "        if promocode in item:\n",
    "            discount = item\n",
    "    i = rest_data.index('•') # return 1st occurance\n",
    "    rating = rest_data[i - 1]\n",
    "    name = rest_data[0]\n",
    "    req_list.append(name + '---- rating=' + rating + '----' + discount + '\\n\\n\\n')"
   ]
  },
  {
   "cell_type": "code",
   "execution_count": null,
   "metadata": {},
   "outputs": [],
   "source": [
    "# write data to a text file\n",
    "f = open(\"swiggy_data.txt\", 'w+') \n",
    "for item in req_list:\n",
    "    f.write(item)\n",
    "f.close()"
   ]
  }
 ],
 "metadata": {
  "kernelspec": {
   "display_name": "Python 3",
   "language": "python",
   "name": "python3"
  },
  "language_info": {
   "codemirror_mode": {
    "name": "ipython",
    "version": 3
   },
   "file_extension": ".py",
   "mimetype": "text/x-python",
   "name": "python",
   "nbconvert_exporter": "python",
   "pygments_lexer": "ipython3",
   "version": "3.7.4"
  }
 },
 "nbformat": 4,
 "nbformat_minor": 2
}
